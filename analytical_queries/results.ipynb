{
 "cells": [
  {
   "cell_type": "markdown",
   "id": "e624c235",
   "metadata": {},
   "source": [
    "# NYC Yellow Taxi Trips - Results of the Analytical Queries"
   ]
  },
  {
   "cell_type": "markdown",
   "id": "cbed5004",
   "metadata": {},
   "source": [
    "Create Spark session"
   ]
  },
  {
   "cell_type": "code",
   "execution_count": 1,
   "id": "e1cc60f6",
   "metadata": {},
   "outputs": [
    {
     "name": "stderr",
     "output_type": "stream",
     "text": [
      "25/05/19 17:39:57 WARN Utils: Your hostname, MacBook-Pro-de-Sara.local resolves to a loopback address: 127.0.0.1; using 10.10.24.223 instead (on interface en0)\n",
      "25/05/19 17:39:57 WARN Utils: Set SPARK_LOCAL_IP if you need to bind to another address\n",
      "Setting default log level to \"WARN\".\n",
      "To adjust logging level use sc.setLogLevel(newLevel). For SparkR, use setLogLevel(newLevel).\n",
      "25/05/19 17:39:58 WARN NativeCodeLoader: Unable to load native-hadoop library for your platform... using builtin-java classes where applicable\n"
     ]
    }
   ],
   "source": [
    "from pyspark.sql import SparkSession\n",
    "\n",
    "spark = SparkSession.builder \\\n",
    "    .getOrCreate()"
   ]
  },
  {
   "cell_type": "code",
   "execution_count": 2,
   "id": "6cb97500",
   "metadata": {},
   "outputs": [
    {
     "data": {
      "text/html": [
       "\n",
       "            <div>\n",
       "                <p><b>SparkSession - in-memory</b></p>\n",
       "                \n",
       "        <div>\n",
       "            <p><b>SparkContext</b></p>\n",
       "\n",
       "            <p><a href=\"http://10.10.24.223:4040\">Spark UI</a></p>\n",
       "\n",
       "            <dl>\n",
       "              <dt>Version</dt>\n",
       "                <dd><code>v3.5.4</code></dd>\n",
       "              <dt>Master</dt>\n",
       "                <dd><code>local[*]</code></dd>\n",
       "              <dt>AppName</dt>\n",
       "                <dd><code>pyspark-shell</code></dd>\n",
       "            </dl>\n",
       "        </div>\n",
       "        \n",
       "            </div>\n",
       "        "
      ],
      "text/plain": [
       "<pyspark.sql.session.SparkSession at 0x10b6117f0>"
      ]
     },
     "execution_count": 2,
     "metadata": {},
     "output_type": "execute_result"
    }
   ],
   "source": [
    "spark"
   ]
  },
  {
   "cell_type": "markdown",
   "id": "143c498c",
   "metadata": {},
   "source": [
    "Import neccessary libraries"
   ]
  },
  {
   "cell_type": "code",
   "execution_count": 3,
   "id": "06affa63",
   "metadata": {},
   "outputs": [],
   "source": [
    "from pyspark.sql import SparkSession\n",
    "from pyspark.sql import functions as F\n",
    "from pyspark.sql.types import DoubleType"
   ]
  },
  {
   "cell_type": "markdown",
   "id": "2adf36d7",
   "metadata": {},
   "source": [
    "## 1. Revenue per hour by zones"
   ]
  },
  {
   "cell_type": "code",
   "execution_count": null,
   "id": "373e4b7a",
   "metadata": {},
   "outputs": [
    {
     "name": "stdout",
     "output_type": "stream",
     "text": [
      "+----+-----------------+-------------+\n",
      "|hour|          PU_Zone|total_revenue|\n",
      "+----+-----------------+-------------+\n",
      "|  16|      JFK Airport|    859160.84|\n",
      "|  19|      JFK Airport|    719191.66|\n",
      "|  17|      JFK Airport|    690222.09|\n",
      "|  15|      JFK Airport|    668909.65|\n",
      "|  18|      JFK Airport|    647028.13|\n",
      "|  22|      JFK Airport|    636612.43|\n",
      "|  20|      JFK Airport|    634432.28|\n",
      "|  21|      JFK Airport|    631867.22|\n",
      "|  14|      JFK Airport|    620454.44|\n",
      "|  23|      JFK Airport|    562223.73|\n",
      "|  13|      JFK Airport|    494878.41|\n",
      "|  19|LaGuardia Airport|    433499.72|\n",
      "|  14|LaGuardia Airport|    433137.68|\n",
      "|  15|LaGuardia Airport|    423246.81|\n",
      "|  18|LaGuardia Airport|    402958.01|\n",
      "|  20|LaGuardia Airport|    399637.65|\n",
      "|  16|LaGuardia Airport|    375519.33|\n",
      "|  12|LaGuardia Airport|    373948.86|\n",
      "|  13|LaGuardia Airport|    363135.48|\n",
      "|  17|LaGuardia Airport|    348767.32|\n",
      "+----+-----------------+-------------+\n",
      "\n"
     ]
    }
   ],
   "source": [
    "df_revenue = spark.read.parquet('output/revenue_per_hour_by_zone')\n",
    "df_revenue.show()"
   ]
  },
  {
   "cell_type": "markdown",
   "id": "e92beb97",
   "metadata": {},
   "source": [
    "We can se that the JFK Airport zone has the highest revenue per hour, followed by the LaGuardia Airport zone. This is a very understadable result, as large volumes of travelers arrive and depart daily, specially during peak hours (14-20h)."
   ]
  },
  {
   "cell_type": "markdown",
   "id": "d3dced79",
   "metadata": {},
   "source": [
    "## 2. Most frequent pairs of pickup and dropoff locations\n"
   ]
  },
  {
   "cell_type": "code",
   "execution_count": 13,
   "id": "ac0501d9",
   "metadata": {},
   "outputs": [
    {
     "name": "stdout",
     "output_type": "stream",
     "text": [
      "+----------------------------+-------------------------+-----+\n",
      "|PU_Zone                     |DO_Zone                  |count|\n",
      "+----------------------------+-------------------------+-----+\n",
      "|Upper East Side South       |Upper East Side North    |21024|\n",
      "|Upper East Side North       |Upper East Side South    |18608|\n",
      "|Upper East Side North       |Upper East Side North    |15621|\n",
      "|Upper East Side South       |Upper East Side South    |14176|\n",
      "|Midtown Center              |Upper East Side South    |10242|\n",
      "|Upper West Side South       |Lincoln Square East      |8900 |\n",
      "|Midtown Center              |Upper East Side North    |8726 |\n",
      "|Upper East Side South       |Midtown Center           |8703 |\n",
      "|Lincoln Square East         |Upper West Side South    |8322 |\n",
      "|Upper West Side South       |Upper West Side North    |8129 |\n",
      "|Upper East Side South       |Midtown East             |7687 |\n",
      "|Lenox Hill West             |Upper East Side North    |7478 |\n",
      "|Upper East Side North       |Midtown Center           |6929 |\n",
      "|Upper East Side North       |Lenox Hill West          |6787 |\n",
      "|N/A                         |N/A                      |6733 |\n",
      "|Upper West Side North       |Upper West Side South    |6691 |\n",
      "|Penn Station/Madison Sq West|Times Sq/Theatre District|6653 |\n",
      "|Upper East Side North       |Upper West Side South    |6632 |\n",
      "|Upper East Side South       |Lenox Hill West          |6439 |\n",
      "|Yorkville West              |Upper East Side North    |6428 |\n",
      "+----------------------------+-------------------------+-----+\n",
      "\n"
     ]
    }
   ],
   "source": [
    "df_pairs = spark.read.parquet('output/most_frequent_pickup_dropoff_pairs')\n",
    "df_pairs.show(truncate=False)"
   ]
  },
  {
   "cell_type": "markdown",
   "id": "889168ac",
   "metadata": {},
   "source": [
    "After doing a little bit of research, we came to the conclusion that Upper East Side and Upper West Side are two wealthy neighborhoods in Manhattan, which is why they are the most common pickup and dropoff locations. Regarding Midtown Center, it is a major business hub, so taxis are frquently used by business people."
   ]
  },
  {
   "cell_type": "markdown",
   "id": "0aedb176",
   "metadata": {},
   "source": [
    "## 3. Average speed of the trip"
   ]
  },
  {
   "cell_type": "code",
   "execution_count": 15,
   "id": "d00e0281",
   "metadata": {},
   "outputs": [
    {
     "name": "stdout",
     "output_type": "stream",
     "text": [
      "+-------------------------------+-----------------------------------+------------------+\n",
      "|PU_Zone                        |DO_Zone                            |avg_speed_mph     |\n",
      "+-------------------------------+-----------------------------------+------------------+\n",
      "|JFK Airport                    |Outside of NYC                     |115.5974025974026 |\n",
      "|Lincoln Square West            |Midtown Center                     |114.0             |\n",
      "|Outside of NYC                 |Breezy Point/Fort Tilden/Riis Beach|111.66060606060607|\n",
      "|JFK Airport                    |Crown Heights South                |111.63070077864293|\n",
      "|Melrose South                  |Outside of NYC                     |95.44515494343335 |\n",
      "|South Ozone Park               |Sutton Place/Turtle Bay North      |92.99352051835854 |\n",
      "|JFK Airport                    |Flatiron                           |92.65415549597854 |\n",
      "|Red Hook                       |Gramercy                           |92.45901639344262 |\n",
      "|Morningside Heights            |Morningside Heights                |91.83673469387756 |\n",
      "|Jamaica                        |Upper West Side North              |91.46853146853147 |\n",
      "|LaGuardia Airport              |Upper East Side South              |79.14870881567231 |\n",
      "|Midtown North                  |Lenox Hill West                    |78.50602409638554 |\n",
      "|LaGuardia Airport              |East Williamsburg                  |76.53311529026983 |\n",
      "|Richmond Hill                  |JFK Airport                        |74.33513513513513 |\n",
      "|Gramercy                       |Maspeth                            |73.875            |\n",
      "|JFK Airport                    |Outside of NYC                     |72.71159029649596 |\n",
      "|JFK Airport                    |Outside of NYC                     |71.66330935251798 |\n",
      "|Outside of NYC                 |Outside of NYC                     |70.77434087606395 |\n",
      "|Canarsie                       |Downtown Brooklyn/MetroTech        |70.48192771084338 |\n",
      "|Marine Park/Floyd Bennett Field|South Ozone Park                   |70.39812646370024 |\n",
      "+-------------------------------+-----------------------------------+------------------+\n",
      "\n"
     ]
    }
   ],
   "source": [
    "df_speed = spark.read.parquet('output/average_speed')\n",
    "df_speed.show(truncate=False)"
   ]
  },
  {
   "cell_type": "markdown",
   "id": "0cd34900",
   "metadata": {},
   "source": [
    "By looking at the tripsp with highest average speed we can see that they have several aspect in common, such as longer distances, better roads and less traffic congestion. High speed trips usually start or finish in an airport or in outer boroughs of NY."
   ]
  },
  {
   "cell_type": "markdown",
   "id": "a040539b",
   "metadata": {},
   "source": [
    "## 4. Average tip by hour\n"
   ]
  },
  {
   "cell_type": "code",
   "execution_count": 16,
   "id": "60fae15a",
   "metadata": {},
   "outputs": [
    {
     "name": "stdout",
     "output_type": "stream",
     "text": [
      "+----+------------------+\n",
      "|hour|       average_tip|\n",
      "+----+------------------+\n",
      "|   5| 3.841534780189232|\n",
      "|  16|3.7101247668728554|\n",
      "|  17|3.5037759577124064|\n",
      "|  14|3.4820466568529618|\n",
      "|  15|3.4349739407687623|\n",
      "|  21| 3.412340345604795|\n",
      "|  22|3.4091221747445113|\n",
      "|  20|3.3817854681300767|\n",
      "|  13|  3.36650524253658|\n",
      "|  19| 3.347283238765365|\n",
      "|  23|3.3386199629810265|\n",
      "|  18| 3.304854113293295|\n",
      "|   4| 3.226684861506316|\n",
      "|  12| 3.203803062596671|\n",
      "|  10| 3.197491275345584|\n",
      "|   6|3.1719605872693775|\n",
      "|  11| 3.141347433525621|\n",
      "|   9|  3.08742044354986|\n",
      "|   0|3.0620165796296837|\n",
      "|   7| 3.005645282663953|\n",
      "+----+------------------+\n",
      "\n"
     ]
    }
   ],
   "source": [
    "df_tips = spark.read.parquet('output/average_tip_by_hour')\n",
    "df_tips.show()"
   ]
  },
  {
   "cell_type": "markdown",
   "id": "0a7f0591",
   "metadata": {},
   "source": [
    "The most generous tips occur at early morning, maybe in trips by commuters or airport travelers who tip more generously, and in the afternoon trips when people may be returning from work, or using taxis for business purposes. The conclusion is that people tend to tip more during peak travel hours."
   ]
  },
  {
   "cell_type": "markdown",
   "id": "e88454e7",
   "metadata": {},
   "source": [
    "## 5. Number of trips by day of the week and by hour\n"
   ]
  },
  {
   "cell_type": "code",
   "execution_count": 17,
   "id": "2272be78",
   "metadata": {},
   "outputs": [
    {
     "name": "stdout",
     "output_type": "stream",
     "text": [
      "+---------+----+-----+\n",
      "| day_name|hour|count|\n",
      "+---------+----+-----+\n",
      "|   Friday|  18|47556|\n",
      "|   Friday|  17|41860|\n",
      "|   Friday|  19|40000|\n",
      "|   Friday|  21|38367|\n",
      "|   Friday|  20|36781|\n",
      "|   Friday|  16|36052|\n",
      "|   Friday|  22|36038|\n",
      "| Thursday|  18|35181|\n",
      "|   Friday|  15|34146|\n",
      "|   Friday|  14|33207|\n",
      "|Wednesday|  18|32271|\n",
      "| Thursday|  17|31828|\n",
      "| Saturday|  18|31049|\n",
      "|   Friday|  13|30283|\n",
      "|   Sunday|  19|29957|\n",
      "|   Sunday|  18|29887|\n",
      "| Thursday|  19|29830|\n",
      "|   Friday|  12|29590|\n",
      "|   Sunday|  23|29376|\n",
      "| Saturday|  19|28907|\n",
      "+---------+----+-----+\n",
      "\n"
     ]
    }
   ],
   "source": [
    "df_trips_day_hour = spark.read.parquet('output/trips_by_day_hour')\n",
    "df_trips_day_hour.show()"
   ]
  },
  {
   "cell_type": "markdown",
   "id": "e9b4e9b1",
   "metadata": {},
   "source": [
    "Friday evenings have the highest number of taxi trips, peaking around 6 PM, driven by commuters and people starting their weekend plans. Weekdays like Thursday and Wednesday also show high trip volumes in the evening, but less than Friday."
   ]
  }
 ],
 "metadata": {
  "kernelspec": {
   "display_name": "base",
   "language": "python",
   "name": "python3"
  },
  "language_info": {
   "codemirror_mode": {
    "name": "ipython",
    "version": 3
   },
   "file_extension": ".py",
   "mimetype": "text/x-python",
   "name": "python",
   "nbconvert_exporter": "python",
   "pygments_lexer": "ipython3",
   "version": "3.12.4"
  }
 },
 "nbformat": 4,
 "nbformat_minor": 5
}
